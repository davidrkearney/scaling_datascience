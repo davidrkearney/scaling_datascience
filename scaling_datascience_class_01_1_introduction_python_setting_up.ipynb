{
  "nbformat": 4,
  "nbformat_minor": 0,
  "metadata": {
    "colab": {
      "name": "scaling_datascience_class_01_1_introduction_python_setting_up.ipynb",
      "provenance": [],
      "collapsed_sections": [],
      "authorship_tag": "ABX9TyMecJ4pHIVM7B/Tld/cQdfI",
      "include_colab_link": true
    },
    "kernelspec": {
      "name": "python3",
      "display_name": "Python 3"
    }
  },
  "cells": [
    {
      "cell_type": "markdown",
      "metadata": {
        "id": "view-in-github",
        "colab_type": "text"
      },
      "source": [
        "<a href=\"https://colab.research.google.com/github/davidrkearney/scaling_datascience/blob/main/scaling_datascience_class_01_1_introduction_python_setting_up.ipynb\" target=\"_parent\"><img src=\"https://colab.research.google.com/assets/colab-badge.svg\" alt=\"Open In Colab\"/></a>"
      ]
    },
    {
      "cell_type": "markdown",
      "metadata": {
        "id": "p_ogogxkjzJx"
      },
      "source": [
        "# Python Data Science Setup\n",
        "\n"
      ]
    },
    {
      "cell_type": "code",
      "metadata": {
        "id": "uETyiySdkuXI"
      },
      "source": [
        "## Install VSCode"
      ],
      "execution_count": null,
      "outputs": []
    },
    {
      "cell_type": "markdown",
      "metadata": {
        "id": "_GCqBqcjkgaL"
      },
      "source": [
        "## Setting up a virtual environments\n",
        "\n",
        "```\n",
        "python -m venv timeseries\n",
        "source ./timeseries/bin/activate\n",
        "pip freeze > requirements.txt\n",
        "pip install -r requirements.txt\n",
        "```\n"
      ]
    }
  ]
}